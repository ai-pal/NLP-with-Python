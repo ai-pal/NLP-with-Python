{
 "cells": [
  {
   "cell_type": "markdown",
   "metadata": {},
   "source": [
    "## NLP (Natural Language Processing) with Python\n",
    "\n",
    "**Summery**\n",
    "\n",
    "* Two class categorization problem\n",
    "* Training set : 200 training instances\n",
    "* Testing set  : 100 test instances\n",
    "* Each document is one line of text\n",
    "* Fields are seperated by the tab '\\t' character\n",
    "> CLASS \\t TITLE \\t DATE \\t BODY\n",
    "\n",
    "* CLASS is either +1 or -1\n",
    "\n",
    "<br/>\n",
    "\n",
    "**Objective**\n",
    "\n",
    "Predict the labels for the 100 test instances.\n"
   ]
  },
  {
   "cell_type": "markdown",
   "metadata": {},
   "source": [
    "## Process"
   ]
  },
  {
   "cell_type": "code",
   "execution_count": 1,
   "metadata": {},
   "outputs": [],
   "source": [
    "# Importing the NLTK package\n",
    "import nltk"
   ]
  },
  {
   "cell_type": "code",
   "execution_count": 3,
   "metadata": {},
   "outputs": [],
   "source": [
    "# Download the stopwords\n",
    "#nltk.download_shell()"
   ]
  },
  {
   "cell_type": "markdown",
   "metadata": {},
   "source": [
    "### Importing the Data\n",
    "\n",
    "Data sets needed for the process is included inside the `dataset` directory in the root.\n",
    "\n",
    "As the summery indicates we have **TSV (Tab Seperated Values)** as the documents. \n",
    "\n",
    "Instead of parsing TSV manually using Python, I will take advantage of pandas."
   ]
  },
  {
   "cell_type": "code",
   "execution_count": 4,
   "metadata": {},
   "outputs": [],
   "source": [
    "# Importing the Pandas package\n",
    "import pandas as pd"
   ]
  },
  {
   "cell_type": "code",
   "execution_count": 5,
   "metadata": {},
   "outputs": [],
   "source": [
    "# Parse using read_csv\n",
    "news = pd.read_csv('dataset/trainset.txt', sep='\\t', names=['CLASS', 'TITLE', 'DATE', 'BODY'])"
   ]
  },
  {
   "cell_type": "code",
   "execution_count": 6,
   "metadata": {},
   "outputs": [
    {
     "data": {
      "text/html": [
       "<div>\n",
       "<style scoped>\n",
       "    .dataframe tbody tr th:only-of-type {\n",
       "        vertical-align: middle;\n",
       "    }\n",
       "\n",
       "    .dataframe tbody tr th {\n",
       "        vertical-align: top;\n",
       "    }\n",
       "\n",
       "    .dataframe thead th {\n",
       "        text-align: right;\n",
       "    }\n",
       "</style>\n",
       "<table border=\"1\" class=\"dataframe\">\n",
       "  <thead>\n",
       "    <tr style=\"text-align: right;\">\n",
       "      <th></th>\n",
       "      <th>CLASS</th>\n",
       "      <th>TITLE</th>\n",
       "      <th>DATE</th>\n",
       "      <th>BODY</th>\n",
       "    </tr>\n",
       "  </thead>\n",
       "  <tbody>\n",
       "    <tr>\n",
       "      <th>0</th>\n",
       "      <td>1</td>\n",
       "      <td>JAPAN FIRM PLANS TO SELL U.S. FARMLAND TO JAP...</td>\n",
       "      <td>MORIOKA, Japan, March 12 -</td>\n",
       "      <td>A Japanese real estate company  said it will ...</td>\n",
       "    </tr>\n",
       "    <tr>\n",
       "      <th>1</th>\n",
       "      <td>-1</td>\n",
       "      <td>NORTH BH SETS ONE-FOR-FIVE OFFER FOR NORGOLD ...</td>\n",
       "      <td>MELBOURNE, March 12 -</td>\n",
       "      <td>North Broken Hill Holdings Ltd  &amp; lt;NBHA.ME ...</td>\n",
       "    </tr>\n",
       "    <tr>\n",
       "      <th>2</th>\n",
       "      <td>-1</td>\n",
       "      <td>OUTOKUMPU IN COPPER DEAL WITH IBERICA DEL COBRE</td>\n",
       "      <td>HELSINKI, June 26 -</td>\n",
       "      <td>Finland's state-owned mining company  Outokum...</td>\n",
       "    </tr>\n",
       "    <tr>\n",
       "      <th>3</th>\n",
       "      <td>1</td>\n",
       "      <td>ROTTERDAM GRAIN HANDLER SAYS PORT BALANCE ROSE</td>\n",
       "      <td>ROTTERDAM, April 13 -</td>\n",
       "      <td>Graan Elevator Mij, GEM, said its  balance in...</td>\n",
       "    </tr>\n",
       "    <tr>\n",
       "      <th>4</th>\n",
       "      <td>1</td>\n",
       "      <td>U.S. SENATE PANEL VOTES TO LIMIT COUNTY LOAN ...</td>\n",
       "      <td>(NO DATE)</td>\n",
       "      <td>(NO TEXT)</td>\n",
       "    </tr>\n",
       "  </tbody>\n",
       "</table>\n",
       "</div>"
      ],
      "text/plain": [
       "   CLASS                                              TITLE  \\\n",
       "0      1   JAPAN FIRM PLANS TO SELL U.S. FARMLAND TO JAP...   \n",
       "1     -1   NORTH BH SETS ONE-FOR-FIVE OFFER FOR NORGOLD ...   \n",
       "2     -1    OUTOKUMPU IN COPPER DEAL WITH IBERICA DEL COBRE   \n",
       "3      1     ROTTERDAM GRAIN HANDLER SAYS PORT BALANCE ROSE   \n",
       "4      1   U.S. SENATE PANEL VOTES TO LIMIT COUNTY LOAN ...   \n",
       "\n",
       "                          DATE  \\\n",
       "0   MORIOKA, Japan, March 12 -   \n",
       "1        MELBOURNE, March 12 -   \n",
       "2          HELSINKI, June 26 -   \n",
       "3        ROTTERDAM, April 13 -   \n",
       "4                    (NO DATE)   \n",
       "\n",
       "                                                BODY  \n",
       "0   A Japanese real estate company  said it will ...  \n",
       "1   North Broken Hill Holdings Ltd  & lt;NBHA.ME ...  \n",
       "2   Finland's state-owned mining company  Outokum...  \n",
       "3   Graan Elevator Mij, GEM, said its  balance in...  \n",
       "4                                          (NO TEXT)  "
      ]
     },
     "execution_count": 6,
     "metadata": {},
     "output_type": "execute_result"
    }
   ],
   "source": [
    "news.head()"
   ]
  },
  {
   "cell_type": "markdown",
   "metadata": {},
   "source": [
    "### Exploratory Data Analysis"
   ]
  },
  {
   "cell_type": "code",
   "execution_count": 7,
   "metadata": {},
   "outputs": [
    {
     "data": {
      "text/html": [
       "<div>\n",
       "<style scoped>\n",
       "    .dataframe tbody tr th:only-of-type {\n",
       "        vertical-align: middle;\n",
       "    }\n",
       "\n",
       "    .dataframe tbody tr th {\n",
       "        vertical-align: top;\n",
       "    }\n",
       "\n",
       "    .dataframe thead th {\n",
       "        text-align: right;\n",
       "    }\n",
       "</style>\n",
       "<table border=\"1\" class=\"dataframe\">\n",
       "  <thead>\n",
       "    <tr style=\"text-align: right;\">\n",
       "      <th></th>\n",
       "      <th>CLASS</th>\n",
       "    </tr>\n",
       "  </thead>\n",
       "  <tbody>\n",
       "    <tr>\n",
       "      <th>count</th>\n",
       "      <td>200.000000</td>\n",
       "    </tr>\n",
       "    <tr>\n",
       "      <th>mean</th>\n",
       "      <td>0.020000</td>\n",
       "    </tr>\n",
       "    <tr>\n",
       "      <th>std</th>\n",
       "      <td>1.002309</td>\n",
       "    </tr>\n",
       "    <tr>\n",
       "      <th>min</th>\n",
       "      <td>-1.000000</td>\n",
       "    </tr>\n",
       "    <tr>\n",
       "      <th>25%</th>\n",
       "      <td>-1.000000</td>\n",
       "    </tr>\n",
       "    <tr>\n",
       "      <th>50%</th>\n",
       "      <td>1.000000</td>\n",
       "    </tr>\n",
       "    <tr>\n",
       "      <th>75%</th>\n",
       "      <td>1.000000</td>\n",
       "    </tr>\n",
       "    <tr>\n",
       "      <th>max</th>\n",
       "      <td>1.000000</td>\n",
       "    </tr>\n",
       "  </tbody>\n",
       "</table>\n",
       "</div>"
      ],
      "text/plain": [
       "            CLASS\n",
       "count  200.000000\n",
       "mean     0.020000\n",
       "std      1.002309\n",
       "min     -1.000000\n",
       "25%     -1.000000\n",
       "50%      1.000000\n",
       "75%      1.000000\n",
       "max      1.000000"
      ]
     },
     "execution_count": 7,
     "metadata": {},
     "output_type": "execute_result"
    }
   ],
   "source": [
    "news.describe()"
   ]
  },
  {
   "cell_type": "markdown",
   "metadata": {},
   "source": [
    "Now we can use **groupby** to describe by *CLASS*, this way we can begin to think about the features that separate **+1** and **-1**"
   ]
  },
  {
   "cell_type": "code",
   "execution_count": 8,
   "metadata": {},
   "outputs": [
    {
     "data": {
      "text/html": [
       "<div>\n",
       "<style scoped>\n",
       "    .dataframe tbody tr th:only-of-type {\n",
       "        vertical-align: middle;\n",
       "    }\n",
       "\n",
       "    .dataframe tbody tr th {\n",
       "        vertical-align: top;\n",
       "    }\n",
       "\n",
       "    .dataframe thead tr th {\n",
       "        text-align: left;\n",
       "    }\n",
       "\n",
       "    .dataframe thead tr:last-of-type th {\n",
       "        text-align: right;\n",
       "    }\n",
       "</style>\n",
       "<table border=\"1\" class=\"dataframe\">\n",
       "  <thead>\n",
       "    <tr>\n",
       "      <th></th>\n",
       "      <th colspan=\"4\" halign=\"left\">BODY</th>\n",
       "      <th colspan=\"4\" halign=\"left\">DATE</th>\n",
       "      <th colspan=\"4\" halign=\"left\">TITLE</th>\n",
       "    </tr>\n",
       "    <tr>\n",
       "      <th></th>\n",
       "      <th>count</th>\n",
       "      <th>unique</th>\n",
       "      <th>top</th>\n",
       "      <th>freq</th>\n",
       "      <th>count</th>\n",
       "      <th>unique</th>\n",
       "      <th>top</th>\n",
       "      <th>freq</th>\n",
       "      <th>count</th>\n",
       "      <th>unique</th>\n",
       "      <th>top</th>\n",
       "      <th>freq</th>\n",
       "    </tr>\n",
       "    <tr>\n",
       "      <th>CLASS</th>\n",
       "      <th></th>\n",
       "      <th></th>\n",
       "      <th></th>\n",
       "      <th></th>\n",
       "      <th></th>\n",
       "      <th></th>\n",
       "      <th></th>\n",
       "      <th></th>\n",
       "      <th></th>\n",
       "      <th></th>\n",
       "      <th></th>\n",
       "      <th></th>\n",
       "    </tr>\n",
       "  </thead>\n",
       "  <tbody>\n",
       "    <tr>\n",
       "      <th>-1</th>\n",
       "      <td>98</td>\n",
       "      <td>97</td>\n",
       "      <td>(NO TEXT)</td>\n",
       "      <td>2</td>\n",
       "      <td>98</td>\n",
       "      <td>89</td>\n",
       "      <td>NEW YORK, April 13 -</td>\n",
       "      <td>2</td>\n",
       "      <td>98</td>\n",
       "      <td>98</td>\n",
       "      <td>EC COMMISSION HAS OPEN ATTITUDE ON STEEL QUOTAS</td>\n",
       "      <td>1</td>\n",
       "    </tr>\n",
       "    <tr>\n",
       "      <th>1</th>\n",
       "      <td>102</td>\n",
       "      <td>93</td>\n",
       "      <td>(NO TEXT)</td>\n",
       "      <td>10</td>\n",
       "      <td>102</td>\n",
       "      <td>80</td>\n",
       "      <td>(NO DATE)</td>\n",
       "      <td>10</td>\n",
       "      <td>102</td>\n",
       "      <td>102</td>\n",
       "      <td>JAPAN MAY INCREASE ITS BRAZILIAN SOYBEAN PURC...</td>\n",
       "      <td>1</td>\n",
       "    </tr>\n",
       "  </tbody>\n",
       "</table>\n",
       "</div>"
      ],
      "text/plain": [
       "       BODY                         DATE                                     \\\n",
       "      count unique        top freq count unique                    top freq   \n",
       "CLASS                                                                         \n",
       "-1       98     97  (NO TEXT)    2    98     89   NEW YORK, April 13 -    2   \n",
       " 1      102     93  (NO TEXT)   10   102     80              (NO DATE)   10   \n",
       "\n",
       "      TITLE                                                                 \n",
       "      count unique                                                top freq  \n",
       "CLASS                                                                       \n",
       "-1       98     98    EC COMMISSION HAS OPEN ATTITUDE ON STEEL QUOTAS    1  \n",
       " 1      102    102   JAPAN MAY INCREASE ITS BRAZILIAN SOYBEAN PURC...    1  "
      ]
     },
     "execution_count": 8,
     "metadata": {},
     "output_type": "execute_result"
    }
   ],
   "source": [
    "news.groupby('CLASS').describe()"
   ]
  },
  {
   "cell_type": "markdown",
   "metadata": {},
   "source": [
    "In the training set we have 98 instances of **-1** class. The remaining 102 instances bear the class of **+1**.\n",
    "\n",
    "We have two instances of class -1 that does not have a body and another 10 instances of class +1 without a body.\n",
    "\n",
    "Also, class +1 contains 10 instances where there is a no date specified.\n",
    "\n",
    "All the class instances contains a title.\n",
    "\n",
    "> Therefore we can assume TITLE plays a bigger role when it comes to classifying these news articles."
   ]
  },
  {
   "cell_type": "markdown",
   "metadata": {},
   "source": [
    "Now we have to check the if lenght of the body plays a part in the classification.\n",
    "\n",
    "First lets create a addtional column contaning the body length. "
   ]
  },
  {
   "cell_type": "code",
   "execution_count": 9,
   "metadata": {},
   "outputs": [],
   "source": [
    "news['BODY LENGTH'] = news['BODY'].apply(len)"
   ]
  },
  {
   "cell_type": "code",
   "execution_count": 10,
   "metadata": {},
   "outputs": [
    {
     "data": {
      "text/html": [
       "<div>\n",
       "<style scoped>\n",
       "    .dataframe tbody tr th:only-of-type {\n",
       "        vertical-align: middle;\n",
       "    }\n",
       "\n",
       "    .dataframe tbody tr th {\n",
       "        vertical-align: top;\n",
       "    }\n",
       "\n",
       "    .dataframe thead th {\n",
       "        text-align: right;\n",
       "    }\n",
       "</style>\n",
       "<table border=\"1\" class=\"dataframe\">\n",
       "  <thead>\n",
       "    <tr style=\"text-align: right;\">\n",
       "      <th></th>\n",
       "      <th>CLASS</th>\n",
       "      <th>TITLE</th>\n",
       "      <th>DATE</th>\n",
       "      <th>BODY</th>\n",
       "      <th>BODY LENGTH</th>\n",
       "    </tr>\n",
       "  </thead>\n",
       "  <tbody>\n",
       "    <tr>\n",
       "      <th>0</th>\n",
       "      <td>1</td>\n",
       "      <td>JAPAN FIRM PLANS TO SELL U.S. FARMLAND TO JAP...</td>\n",
       "      <td>MORIOKA, Japan, March 12 -</td>\n",
       "      <td>A Japanese real estate company  said it will ...</td>\n",
       "      <td>1120</td>\n",
       "    </tr>\n",
       "    <tr>\n",
       "      <th>1</th>\n",
       "      <td>-1</td>\n",
       "      <td>NORTH BH SETS ONE-FOR-FIVE OFFER FOR NORGOLD ...</td>\n",
       "      <td>MELBOURNE, March 12 -</td>\n",
       "      <td>North Broken Hill Holdings Ltd  &amp; lt;NBHA.ME ...</td>\n",
       "      <td>1154</td>\n",
       "    </tr>\n",
       "    <tr>\n",
       "      <th>2</th>\n",
       "      <td>-1</td>\n",
       "      <td>OUTOKUMPU IN COPPER DEAL WITH IBERICA DEL COBRE</td>\n",
       "      <td>HELSINKI, June 26 -</td>\n",
       "      <td>Finland's state-owned mining company  Outokum...</td>\n",
       "      <td>597</td>\n",
       "    </tr>\n",
       "    <tr>\n",
       "      <th>3</th>\n",
       "      <td>1</td>\n",
       "      <td>ROTTERDAM GRAIN HANDLER SAYS PORT BALANCE ROSE</td>\n",
       "      <td>ROTTERDAM, April 13 -</td>\n",
       "      <td>Graan Elevator Mij, GEM, said its  balance in...</td>\n",
       "      <td>534</td>\n",
       "    </tr>\n",
       "    <tr>\n",
       "      <th>4</th>\n",
       "      <td>1</td>\n",
       "      <td>U.S. SENATE PANEL VOTES TO LIMIT COUNTY LOAN ...</td>\n",
       "      <td>(NO DATE)</td>\n",
       "      <td>(NO TEXT)</td>\n",
       "      <td>9</td>\n",
       "    </tr>\n",
       "  </tbody>\n",
       "</table>\n",
       "</div>"
      ],
      "text/plain": [
       "   CLASS                                              TITLE  \\\n",
       "0      1   JAPAN FIRM PLANS TO SELL U.S. FARMLAND TO JAP...   \n",
       "1     -1   NORTH BH SETS ONE-FOR-FIVE OFFER FOR NORGOLD ...   \n",
       "2     -1    OUTOKUMPU IN COPPER DEAL WITH IBERICA DEL COBRE   \n",
       "3      1     ROTTERDAM GRAIN HANDLER SAYS PORT BALANCE ROSE   \n",
       "4      1   U.S. SENATE PANEL VOTES TO LIMIT COUNTY LOAN ...   \n",
       "\n",
       "                          DATE  \\\n",
       "0   MORIOKA, Japan, March 12 -   \n",
       "1        MELBOURNE, March 12 -   \n",
       "2          HELSINKI, June 26 -   \n",
       "3        ROTTERDAM, April 13 -   \n",
       "4                    (NO DATE)   \n",
       "\n",
       "                                                BODY  BODY LENGTH  \n",
       "0   A Japanese real estate company  said it will ...         1120  \n",
       "1   North Broken Hill Holdings Ltd  & lt;NBHA.ME ...         1154  \n",
       "2   Finland's state-owned mining company  Outokum...          597  \n",
       "3   Graan Elevator Mij, GEM, said its  balance in...          534  \n",
       "4                                          (NO TEXT)            9  "
      ]
     },
     "execution_count": 10,
     "metadata": {},
     "output_type": "execute_result"
    }
   ],
   "source": [
    "news.head()"
   ]
  },
  {
   "cell_type": "markdown",
   "metadata": {},
   "source": [
    "### Data Visualization"
   ]
  },
  {
   "cell_type": "code",
   "execution_count": 11,
   "metadata": {},
   "outputs": [],
   "source": [
    "# Importing the Visualization libraries\n",
    "import matplotlib.pyplot as plt\n",
    "import seaborn as sns"
   ]
  },
  {
   "cell_type": "code",
   "execution_count": 12,
   "metadata": {},
   "outputs": [],
   "source": [
    "%matplotlib inline"
   ]
  },
  {
   "cell_type": "code",
   "execution_count": 13,
   "metadata": {},
   "outputs": [
    {
     "data": {
      "text/plain": [
       "<matplotlib.axes._subplots.AxesSubplot at 0x250b411acc0>"
      ]
     },
     "execution_count": 13,
     "metadata": {},
     "output_type": "execute_result"
    },
    {
     "data": {
      "image/png": "[encoded data removed]",
      "text/plain": [
       "<Figure size 432x288 with 1 Axes>"
      ]
     },
     "metadata": {
      "needs_background": "light"
     },
     "output_type": "display_data"
    }
   ],
   "source": [
    "news['BODY LENGTH'].plot.hist(bins=50)"
   ]
  },
  {
   "cell_type": "code",
   "execution_count": 13,
   "metadata": {},
   "outputs": [
    {
     "data": {
      "text/plain": [
       "<matplotlib.axes._subplots.AxesSubplot at 0x1b85ab5ea90>"
      ]
     },
     "execution_count": 13,
     "metadata": {},
     "output_type": "execute_result"
    },
    {
     "data": {
      "image/png": "[encoded data removed]",
      "text/plain": [
       "<Figure size 432x288 with 1 Axes>"
      ]
     },
     "metadata": {
      "needs_background": "light"
     },
     "output_type": "display_data"
    }
   ],
   "source": [
    "news['BODY LENGTH'].plot.hist(bins=150)"
   ]
  },
  {
   "cell_type": "markdown",
   "metadata": {},
   "source": [
    "According to the above Histograms we can identify body length usually revolves around 0-1000 area, with exception some of the news Body lengths exceeding 4000 words."
   ]
  },
  {
   "cell_type": "code",
   "execution_count": 14,
   "metadata": {},
   "outputs": [
    {
     "data": {
      "text/plain": [
       "count     200.000000\n",
       "mean     1059.140000\n",
       "std       952.623023\n",
       "min         9.000000\n",
       "25%       499.500000\n",
       "50%       738.500000\n",
       "75%      1320.500000\n",
       "max      4689.000000\n",
       "Name: BODY LENGTH, dtype: float64"
      ]
     },
     "execution_count": 14,
     "metadata": {},
     "output_type": "execute_result"
    }
   ],
   "source": [
    "# Overview of the Lengths\n",
    "news['BODY LENGTH'].describe()"
   ]
  },
  {
   "cell_type": "markdown",
   "metadata": {},
   "source": [
    "Now we need to identify whether the BODY LENGTH have a effect on the CLASS classification."
   ]
  },
  {
   "cell_type": "code",
   "execution_count": 15,
   "metadata": {},
   "outputs": [
    {
     "data": {
      "text/plain": [
       "array([<matplotlib.axes._subplots.AxesSubplot object at 0x000001B85D8A5B70>,\n",
       "       <matplotlib.axes._subplots.AxesSubplot object at 0x000001B85DA3B198>],\n",
       "      dtype=object)"
      ]
     },
     "execution_count": 15,
     "metadata": {},
     "output_type": "execute_result"
    },
    {
     "data": {
      "image/png": "[encoded data removed]",
      "text/plain": [
       "<Figure size 864x288 with 2 Axes>"
      ]
     },
     "metadata": {
      "needs_background": "light"
     },
     "output_type": "display_data"
    }
   ],
   "source": [
    "news.hist(column='BODY LENGTH', by='CLASS', bins=60, figsize=(12,4))"
   ]
  },
  {
   "cell_type": "markdown",
   "metadata": {},
   "source": [
    "#### Using FacetGrid from the seaborn library to create a grid of 2 histograms of BODY LENGTH based off of the CLASS values."
   ]
  },
  {
   "cell_type": "code",
   "execution_count": 16,
   "metadata": {},
   "outputs": [
    {
     "data": {
      "text/plain": [
       "<seaborn.axisgrid.FacetGrid at 0x1b85da8a828>"
      ]
     },
     "execution_count": 16,
     "metadata": {},
     "output_type": "execute_result"
    },
    {
     "data": {
      "image/png": "[encoded data removed]",
      "text/plain": [
       "<Figure size 432x216 with 2 Axes>"
      ]
     },
     "metadata": {
      "needs_background": "light"
     },
     "output_type": "display_data"
    }
   ],
   "source": [
    "g = sns.FacetGrid(news,col='CLASS')\n",
    "g.map(plt.hist,'BODY LENGTH')"
   ]
  },
  {
   "cell_type": "markdown",
   "metadata": {},
   "source": [
    "#### Creating a boxplot of BODY LENGTH for each CLASS."
   ]
  },
  {
   "cell_type": "code",
   "execution_count": 17,
   "metadata": {},
   "outputs": [
    {
     "data": {
      "text/plain": [
       "<matplotlib.axes._subplots.AxesSubplot at 0x1b85dc8e668>"
      ]
     },
     "execution_count": 17,
     "metadata": {},
     "output_type": "execute_result"
    },
    {
     "data": {
      "image/png": "[encoded data removed]",
      "text/plain": [
       "<Figure size 432x288 with 1 Axes>"
      ]
     },
     "metadata": {
      "needs_background": "light"
     },
     "output_type": "display_data"
    }
   ],
   "source": [
    "sns.boxplot(x='CLASS', y='BODY LENGTH', data=news, palette='rainbow')"
   ]
  },
  {
   "cell_type": "markdown",
   "metadata": {},
   "source": [
    "#### Creating a countplot of the number of occurrences for each type of CLASS."
   ]
  },
  {
   "cell_type": "code",
   "execution_count": 18,
   "metadata": {},
   "outputs": [
    {
     "data": {
      "text/plain": [
       "<matplotlib.axes._subplots.AxesSubplot at 0x1b85dd14f28>"
      ]
     },
     "execution_count": 18,
     "metadata": {},
     "output_type": "execute_result"
    },
    {
     "data": {
      "image/png": "[encoded data removed]",
      "text/plain": [
       "<Figure size 432x288 with 1 Axes>"
      ]
     },
     "metadata": {
      "needs_background": "light"
     },
     "output_type": "display_data"
    }
   ],
   "source": [
    "sns.countplot(x='CLASS',data=news,palette='rainbow')"
   ]
  },
  {
   "cell_type": "markdown",
   "metadata": {},
   "source": [
    "As the histograms indicate we cannot distinguish BODY LENGTH having a clear effect on CLASSES -1 and +1. \n",
    "\n",
    "But we can observe that the CLASS -1 BODY LENGTHS spread closely around 0-1000 mark wheares CLASS +1 BODY LENGTHS more spread out."
   ]
  },
  {
   "cell_type": "markdown",
   "metadata": {},
   "source": [
    "### Text Pre-processing"
   ]
  },
  {
   "cell_type": "markdown",
   "metadata": {},
   "source": [
    "Main issues with the dataset is it consists of text data.\n",
    "\n",
    "Due to that we need to pre-process them in order to convert **corpus** to a **vector** format."
   ]
  },
  {
   "cell_type": "code",
   "execution_count": 19,
   "metadata": {},
   "outputs": [],
   "source": [
    "# Importing String library for remove punctuations\n",
    "import string"
   ]
  },
  {
   "cell_type": "code",
   "execution_count": 20,
   "metadata": {},
   "outputs": [],
   "source": [
    "# Importing Regular Expressions\n",
    "import re"
   ]
  },
  {
   "cell_type": "code",
   "execution_count": 21,
   "metadata": {},
   "outputs": [],
   "source": [
    "# Importing stop words\n",
    "from nltk.corpus import stopwords"
   ]
  },
  {
   "cell_type": "code",
   "execution_count": 22,
   "metadata": {},
   "outputs": [],
   "source": [
    "# Importing Stemming Library\n",
    "from nltk.stem import PorterStemmer\n",
    "stemmer = PorterStemmer()"
   ]
  },
  {
   "cell_type": "markdown",
   "metadata": {},
   "source": [
    "#### Text Processing Fuction"
   ]
  },
  {
   "cell_type": "code",
   "execution_count": 23,
   "metadata": {},
   "outputs": [],
   "source": [
    "def text_process(mess):\n",
    "    \"\"\"\n",
    "    1. Remove punc\n",
    "    2. Remove numbers    \n",
    "    3. Remove stop words + 'reuters' (News Network)\n",
    "    4. Stemming\n",
    "    5. Return list of clean text words\n",
    "    \"\"\"\n",
    "    \n",
    "    text = [char for char in mess if char not in string.punctuation]\n",
    "    \n",
    "    text = ''.join(text)\n",
    "    \n",
    "    text = re.sub(r'\\d+', ' ', text)\n",
    "    \n",
    "    text = [word for word in text.split() if word.lower() not in stopwords.words('english')+['reuter']]\n",
    "    \n",
    "    return [stemmer.stem(word) for word in text]"
   ]
  },
  {
   "cell_type": "markdown",
   "metadata": {},
   "source": [
    "### Data Pipeline"
   ]
  },
  {
   "cell_type": "markdown",
   "metadata": {},
   "source": [
    "Now we need to Vectorize, train and evaluvate model. We can due to this step by step but the best way (easy way) is to create a data pipeline. We will use use SciKit Learn's pipeline capabilities to store a pipeline of workflow. This will allow us to set up all the transformations that we will do to the data for future use."
   ]
  },
  {
   "cell_type": "markdown",
   "metadata": {},
   "source": [
    "We will use **TF-IDF** for the term weighting and normalization."
   ]
  },
  {
   "cell_type": "markdown",
   "metadata": {},
   "source": [
    "#### What is TF-IDF"
   ]
  },
  {
   "cell_type": "markdown",
   "metadata": {},
   "source": [
    "TF-IDF stands for *term frequency-inverse document frequency*, and the tf-idf weight is a weight often used in information retrieval and text mining. This weight is a statistical measure used to evaluate how important a word is to a document in a collection or corpus. The importance increases proportionally to the number of times a word appears in the document but is offset by the frequency of the word in the corpus. Variations of the tf-idf weighting scheme are often used by search engines as a central tool in scoring and ranking a document's relevance given a user query.\n",
    "\n",
    "One of the simplest ranking functions is computed by summing the tf-idf for each query term; many more sophisticated ranking functions are variants of this simple model.\n",
    "\n",
    "Typically, the tf-idf weight is composed by two terms: the first computes the normalized Term Frequency (TF), aka. the number of times a word appears in a document, divided by the total number of words in that document; the second term is the Inverse Document Frequency (IDF), computed as the logarithm of the number of the documents in the corpus divided by the number of documents where the specific term appears.\n",
    "\n",
    "**TF: Term Frequency**, which measures how frequently a term occurs in a document. Since every document is different in length, it is possible that a term would appear much more times in long documents than shorter ones. Thus, the term frequency is often divided by the document length (aka. the total number of terms in the document) as a way of normalization: \n",
    "\n",
    "*TF(t) = (Number of times term t appears in a document) / (Total number of terms in the document).*\n",
    "\n",
    "**IDF: Inverse Document Frequency**, which measures how important a term is. While computing TF, all terms are considered equally important. However it is known that certain terms, such as \"is\", \"of\", and \"that\", may appear a lot of times but have little importance. Thus we need to weigh down the frequent terms while scale up the rare ones, by computing the following: \n",
    "\n",
    "*IDF(t) = log_e(Total number of documents / Number of documents with term t in it).*\n",
    "\n",
    "See below for a simple example.\n",
    "\n",
    "**Example:**\n",
    "\n",
    "Consider a document containing 100 words wherein the word cat appears 3 times. \n",
    "\n",
    "The term frequency (i.e., tf) for cat is then (3 / 100) = 0.03. Now, assume we have 10 million documents and the word cat appears in one thousand of these. Then, the inverse document frequency (i.e., idf) is calculated as log(10,000,000 / 1,000) = 4. Thus, the Tf-idf weight is the product of these quantities: 0.03 * 4 = 0.12."
   ]
  },
  {
   "cell_type": "markdown",
   "metadata": {},
   "source": [
    "#### Pipeline Creation Process"
   ]
  },
  {
   "cell_type": "markdown",
   "metadata": {},
   "source": [
    "We will split the training data set into two parts as *training* and *test* for modal building and evaluvation."
   ]
  },
  {
   "cell_type": "code",
   "execution_count": 24,
   "metadata": {},
   "outputs": [],
   "source": [
    "# Importing train_test_split package\n",
    "from sklearn.model_selection import train_test_split"
   ]
  },
  {
   "cell_type": "code",
   "execution_count": 25,
   "metadata": {},
   "outputs": [],
   "source": [
    "news_body_train, news_body_test, class_train, class_test = train_test_split(news['BODY'], news['CLASS'], test_size=0.3)"
   ]
  },
  {
   "cell_type": "code",
   "execution_count": 26,
   "metadata": {},
   "outputs": [
    {
     "name": "stdout",
     "output_type": "stream",
     "text": [
      "140 60 200\n"
     ]
    }
   ],
   "source": [
    "print(len(news_body_train), len(news_body_test), len(news_body_train) + len(news_body_test))"
   ]
  },
  {
   "cell_type": "code",
   "execution_count": 27,
   "metadata": {},
   "outputs": [],
   "source": [
    "# Imporing CountVectorizer Package\n",
    "from sklearn.feature_extraction.text import CountVectorizer"
   ]
  },
  {
   "cell_type": "code",
   "execution_count": 28,
   "metadata": {},
   "outputs": [],
   "source": [
    "# Importing Tfidf Library\n",
    "from sklearn.feature_extraction.text import TfidfTransformer"
   ]
  },
  {
   "cell_type": "code",
   "execution_count": 29,
   "metadata": {},
   "outputs": [],
   "source": [
    "# Importing MultinomialNB\n",
    "from sklearn.naive_bayes import MultinomialNB"
   ]
  },
  {
   "cell_type": "code",
   "execution_count": 30,
   "metadata": {},
   "outputs": [],
   "source": [
    "# Importing Pipeline Package\n",
    "from sklearn.pipeline import Pipeline"
   ]
  },
  {
   "cell_type": "code",
   "execution_count": 31,
   "metadata": {},
   "outputs": [],
   "source": [
    "pipeline = Pipeline([\n",
    "    ('bow', CountVectorizer(analyzer=text_process)),\n",
    "    ('tfidf', TfidfTransformer()),\n",
    "    ('classifier', MultinomialNB())\n",
    "])"
   ]
  },
  {
   "cell_type": "markdown",
   "metadata": {},
   "source": [
    "Now we can directly pass news body data and the pipeline will do our pre-processing for us. We can treat it as a model/estimator API:"
   ]
  },
  {
   "cell_type": "code",
   "execution_count": 32,
   "metadata": {},
   "outputs": [
    {
     "data": {
      "text/plain": [
       "Pipeline(memory=None,\n",
       "     steps=[('bow', CountVectorizer(analyzer=<function text_process at 0x000001B85DCDFBF8>,\n",
       "        binary=False, decode_error='strict', dtype=<class 'numpy.int64'>,\n",
       "        encoding='utf-8', input='content', lowercase=True, max_df=1.0,\n",
       "        max_features=None, min_df=1, ngram_range=(1, 1), preprocesso...f=False, use_idf=True)), ('classifier', MultinomialNB(alpha=1.0, class_prior=None, fit_prior=True))])"
      ]
     },
     "execution_count": 32,
     "metadata": {},
     "output_type": "execute_result"
    }
   ],
   "source": [
    "pipeline.fit(news_body_train,class_train)"
   ]
  },
  {
   "cell_type": "code",
   "execution_count": 33,
   "metadata": {},
   "outputs": [],
   "source": [
    "predictions_eval = pipeline.predict(news_body_test)"
   ]
  },
  {
   "cell_type": "markdown",
   "metadata": {},
   "source": [
    "#### Lets make a simple evaluvation by comaparing the predictions with real train set values"
   ]
  },
  {
   "cell_type": "code",
   "execution_count": 34,
   "metadata": {},
   "outputs": [],
   "source": [
    "import numpy as np"
   ]
  },
  {
   "cell_type": "code",
   "execution_count": 35,
   "metadata": {},
   "outputs": [
    {
     "data": {
      "text/plain": [
       "array([-1, -1,  1,  1,  1,  1,  1, -1,  1, -1,  1, -1,  1, -1,  1, -1,  1,\n",
       "       -1,  1,  1,  1, -1,  1,  1,  1, -1,  1,  1,  1, -1,  1,  1, -1, -1,\n",
       "       -1,  1,  1,  1,  1, -1,  1,  1, -1, -1, -1,  1,  1, -1, -1,  1, -1,\n",
       "       -1, -1,  1, -1, -1,  1,  1, -1,  1])"
      ]
     },
     "execution_count": 35,
     "metadata": {},
     "output_type": "execute_result"
    }
   ],
   "source": [
    "np.asarray(class_test.tolist())"
   ]
  },
  {
   "cell_type": "code",
   "execution_count": 36,
   "metadata": {},
   "outputs": [
    {
     "data": {
      "text/plain": [
       "array([-1,  1,  1,  1,  1,  1,  1, -1,  1, -1,  1, -1,  1, -1,  1, -1,  1,\n",
       "       -1,  1,  1,  1, -1,  1,  1,  1, -1,  1,  1,  1, -1,  1,  1, -1, -1,\n",
       "       -1,  1,  1,  1,  1, -1,  1,  1, -1, -1, -1,  1,  1, -1, -1,  1, -1,\n",
       "       -1, -1,  1, -1, -1,  1,  1, -1,  1], dtype=int64)"
      ]
     },
     "execution_count": 36,
     "metadata": {},
     "output_type": "execute_result"
    }
   ],
   "source": [
    "predictions_eval"
   ]
  },
  {
   "cell_type": "markdown",
   "metadata": {},
   "source": [
    "Now lets create a report"
   ]
  },
  {
   "cell_type": "code",
   "execution_count": 37,
   "metadata": {},
   "outputs": [],
   "source": [
    "# Import classification report package\n",
    "from sklearn.metrics import confusion_matrix,classification_report\n",
    "from sklearn.metrics import accuracy_score"
   ]
  },
  {
   "cell_type": "code",
   "execution_count": 38,
   "metadata": {},
   "outputs": [
    {
     "name": "stdout",
     "output_type": "stream",
     "text": [
      "[[25  1]\n",
      " [ 0 34]]\n",
      "\n",
      "\n",
      "             precision    recall  f1-score   support\n",
      "\n",
      "         -1       1.00      0.96      0.98        26\n",
      "          1       0.97      1.00      0.99        34\n",
      "\n",
      "avg / total       0.98      0.98      0.98        60\n",
      "\n",
      "\n",
      "\n",
      "Accuracy : 0.9833333333333333\n"
     ]
    }
   ],
   "source": [
    "print(confusion_matrix(class_test, predictions_eval))\n",
    "print('\\n')\n",
    "print(classification_report(class_test, predictions_eval))\n",
    "print('\\n')\n",
    "print('Accuracy :', accuracy_score(class_test, predictions_eval))"
   ]
  },
  {
   "cell_type": "markdown",
   "metadata": {},
   "source": [
    "### Comparing Models"
   ]
  },
  {
   "cell_type": "markdown",
   "metadata": {},
   "source": [
    "Now lets change the MultinomialNB to RandomForrest and generate reports "
   ]
  },
  {
   "cell_type": "code",
   "execution_count": 39,
   "metadata": {},
   "outputs": [
    {
     "name": "stderr",
     "output_type": "stream",
     "text": [
      "E:\\SW\\Anaconda3\\lib\\site-packages\\sklearn\\ensemble\\weight_boosting.py:29: DeprecationWarning: numpy.core.umath_tests is an internal NumPy module and should not be imported. It will be removed in a future NumPy release.\n",
      "  from numpy.core.umath_tests import inner1d\n"
     ]
    }
   ],
   "source": [
    "# Importing RandomForrestClassifier\n",
    "from sklearn.ensemble import RandomForestClassifier"
   ]
  },
  {
   "cell_type": "code",
   "execution_count": 40,
   "metadata": {},
   "outputs": [],
   "source": [
    "pipeline = Pipeline([\n",
    "    ('bow', CountVectorizer(analyzer=text_process)),\n",
    "    ('tfidf', TfidfTransformer()),\n",
    "    ('classifier', RandomForestClassifier())\n",
    "])"
   ]
  },
  {
   "cell_type": "code",
   "execution_count": 41,
   "metadata": {},
   "outputs": [
    {
     "data": {
      "text/plain": [
       "Pipeline(memory=None,\n",
       "     steps=[('bow', CountVectorizer(analyzer=<function text_process at 0x000001B85DCDFBF8>,\n",
       "        binary=False, decode_error='strict', dtype=<class 'numpy.int64'>,\n",
       "        encoding='utf-8', input='content', lowercase=True, max_df=1.0,\n",
       "        max_features=None, min_df=1, ngram_range=(1, 1), preprocesso...n_jobs=1,\n",
       "            oob_score=False, random_state=None, verbose=0,\n",
       "            warm_start=False))])"
      ]
     },
     "execution_count": 41,
     "metadata": {},
     "output_type": "execute_result"
    }
   ],
   "source": [
    "pipeline.fit(news_body_train,class_train)"
   ]
  },
  {
   "cell_type": "code",
   "execution_count": 42,
   "metadata": {},
   "outputs": [],
   "source": [
    "predictions_eval = pipeline.predict(news_body_test)"
   ]
  },
  {
   "cell_type": "code",
   "execution_count": 43,
   "metadata": {},
   "outputs": [
    {
     "name": "stdout",
     "output_type": "stream",
     "text": [
      "[[25  1]\n",
      " [ 4 30]]\n",
      "\n",
      "\n",
      "             precision    recall  f1-score   support\n",
      "\n",
      "         -1       0.86      0.96      0.91        26\n",
      "          1       0.97      0.88      0.92        34\n",
      "\n",
      "avg / total       0.92      0.92      0.92        60\n",
      "\n",
      "\n",
      "\n",
      "Accuracy : 0.9166666666666666\n"
     ]
    }
   ],
   "source": [
    "print(confusion_matrix(class_test, predictions_eval))\n",
    "print('\\n')\n",
    "print(classification_report(class_test, predictions_eval))\n",
    "print('\\n')\n",
    "print('Accuracy :', accuracy_score(class_test, predictions_eval))"
   ]
  },
  {
   "cell_type": "markdown",
   "metadata": {},
   "source": [
    "**Conclusion : *RandomForrestClassifier* offeres better precision than *MultinomialNB* when comes to CLASS +1** "
   ]
  },
  {
   "cell_type": "markdown",
   "metadata": {},
   "source": [
    "### Can TITLE be used for News Classification?"
   ]
  },
  {
   "cell_type": "markdown",
   "metadata": {},
   "source": [
    "Here we will try to determine whether TITLE place a role in News classification.\n",
    "\n",
    "We will use the pipelines with TITLE based test and train sets."
   ]
  },
  {
   "cell_type": "markdown",
   "metadata": {},
   "source": [
    "**Step 1 :** Train Test Split"
   ]
  },
  {
   "cell_type": "code",
   "execution_count": 44,
   "metadata": {},
   "outputs": [],
   "source": [
    "news_title_train, news_title_test, class_train, class_test = train_test_split(news['TITLE'], news['CLASS'], test_size=0.3)"
   ]
  },
  {
   "cell_type": "markdown",
   "metadata": {},
   "source": [
    "**Step 2 :** Determine the pipeline. We will use the MultinomialNB.\n",
    "\n",
    "**Step 3 :** Train the model."
   ]
  },
  {
   "cell_type": "code",
   "execution_count": 45,
   "metadata": {},
   "outputs": [
    {
     "data": {
      "text/plain": [
       "Pipeline(memory=None,\n",
       "     steps=[('bow', CountVectorizer(analyzer=<function text_process at 0x000001B85DCDFBF8>,\n",
       "        binary=False, decode_error='strict', dtype=<class 'numpy.int64'>,\n",
       "        encoding='utf-8', input='content', lowercase=True, max_df=1.0,\n",
       "        max_features=None, min_df=1, ngram_range=(1, 1), preprocesso...n_jobs=1,\n",
       "            oob_score=False, random_state=None, verbose=0,\n",
       "            warm_start=False))])"
      ]
     },
     "execution_count": 45,
     "metadata": {},
     "output_type": "execute_result"
    }
   ],
   "source": [
    "pipeline.fit(news_title_train,class_train)"
   ]
  },
  {
   "cell_type": "markdown",
   "metadata": {},
   "source": [
    "**Step 4 :** Predict"
   ]
  },
  {
   "cell_type": "code",
   "execution_count": 46,
   "metadata": {},
   "outputs": [],
   "source": [
    "predictions_eval = pipeline.predict(news_title_test)"
   ]
  },
  {
   "cell_type": "markdown",
   "metadata": {},
   "source": [
    "**Step 5 :** Generate Reports"
   ]
  },
  {
   "cell_type": "code",
   "execution_count": 47,
   "metadata": {},
   "outputs": [
    {
     "name": "stdout",
     "output_type": "stream",
     "text": [
      "[[25  2]\n",
      " [ 7 26]]\n",
      "\n",
      "\n",
      "             precision    recall  f1-score   support\n",
      "\n",
      "         -1       0.78      0.93      0.85        27\n",
      "          1       0.93      0.79      0.85        33\n",
      "\n",
      "avg / total       0.86      0.85      0.85        60\n",
      "\n",
      "\n",
      "\n",
      "Accuracy : 0.85\n"
     ]
    }
   ],
   "source": [
    "print(confusion_matrix(class_test, predictions_eval))\n",
    "print('\\n')\n",
    "print(classification_report(class_test, predictions_eval))\n",
    "print('\\n')\n",
    "print('Accuracy :', accuracy_score(class_test, predictions_eval))"
   ]
  },
  {
   "cell_type": "markdown",
   "metadata": {},
   "source": [
    "## Modal Evaluvation"
   ]
  },
  {
   "cell_type": "markdown",
   "metadata": {},
   "source": [
    "After couple of runs we get a table like below."
   ]
  },
  {
   "cell_type": "code",
   "execution_count": 48,
   "metadata": {},
   "outputs": [
    {
     "data": {
      "image/png": "[encoded data removed]",
      "text/plain": [
       "<Figure size 432x288 with 1 Axes>"
      ]
     },
     "metadata": {
      "needs_background": "light"
     },
     "output_type": "display_data"
    }
   ],
   "source": [
    "runs = [1, 2, 3, 4]\n",
    "body_mdf_acc = [0.91, 0.85, 0.95, 0.95]\n",
    "body_rnf_acc = [0.89, 0.82, 0.86, 0.92]\n",
    "title_mdf_acc = [0.93, 0.9, 0.93, 0.85]\n",
    "plt.plot(runs, body_mdf_acc, color='g')\n",
    "plt.plot(runs, body_rnf_acc, color='orange')\n",
    "plt.plot(runs, title_mdf_acc, color='blue')\n",
    "plt.xticks(np.arange(min(runs), max(runs)+1, 1.0))\n",
    "plt.xlabel('Runs')\n",
    "plt.ylabel('Accuracy')\n",
    "plt.title('Model Accuracy by Runs')\n",
    "plt.show()"
   ]
  },
  {
   "cell_type": "markdown",
   "metadata": {},
   "source": [
    "#### Conclusion\n",
    "\n",
    "According to the graph using BODY content with MultinomialNB will provide better predictions than the others.\n",
    "\n",
    "Therefore we can predict the test set without labels like below. "
   ]
  },
  {
   "cell_type": "markdown",
   "metadata": {},
   "source": [
    "### Predicting Test Labels"
   ]
  },
  {
   "cell_type": "code",
   "execution_count": 49,
   "metadata": {},
   "outputs": [],
   "source": [
    "# Parse using read_csv\n",
    "news_without_labels = pd.read_csv('dataset/testsetwithoutlabels.txt', sep='\\t', names=['TITLE', 'DATE', 'BODY'])"
   ]
  },
  {
   "cell_type": "code",
   "execution_count": 50,
   "metadata": {},
   "outputs": [
    {
     "data": {
      "text/html": [
       "<div>\n",
       "<style scoped>\n",
       "    .dataframe tbody tr th:only-of-type {\n",
       "        vertical-align: middle;\n",
       "    }\n",
       "\n",
       "    .dataframe tbody tr th {\n",
       "        vertical-align: top;\n",
       "    }\n",
       "\n",
       "    .dataframe thead th {\n",
       "        text-align: right;\n",
       "    }\n",
       "</style>\n",
       "<table border=\"1\" class=\"dataframe\">\n",
       "  <thead>\n",
       "    <tr style=\"text-align: right;\">\n",
       "      <th></th>\n",
       "      <th>TITLE</th>\n",
       "      <th>DATE</th>\n",
       "      <th>BODY</th>\n",
       "    </tr>\n",
       "  </thead>\n",
       "  <tbody>\n",
       "    <tr>\n",
       "      <th>0</th>\n",
       "      <td>USSR WHEAT BONUS OFFER SAID STILL UNDER DEBATE</td>\n",
       "      <td>WASHINGTON, March 6 -</td>\n",
       "      <td>The Reagan administration continues  to debat...</td>\n",
       "    </tr>\n",
       "    <tr>\n",
       "      <th>1</th>\n",
       "      <td>HAITIAN CANE PLANTERS PROTEST SUGAR MILL CLOSURE</td>\n",
       "      <td>PORT-AU-PRINCE, April 13 -</td>\n",
       "      <td>About 2,000 sugar cane planters  marched to P...</td>\n",
       "    </tr>\n",
       "    <tr>\n",
       "      <th>2</th>\n",
       "      <td>U.S. URGES JAPAN TO OPEN FARM MARKET FURTHER</td>\n",
       "      <td>TOKYO, April 17 -</td>\n",
       "      <td>U.S. Agriculture Secretary Richard Lyng  has ...</td>\n",
       "    </tr>\n",
       "    <tr>\n",
       "      <th>3</th>\n",
       "      <td>NORANDA COPPER MINE SHUT DOWN AFTER FIRE</td>\n",
       "      <td>TORONTO, April 2 -</td>\n",
       "      <td>Noranda Inc said production at its  Murdochvi...</td>\n",
       "    </tr>\n",
       "    <tr>\n",
       "      <th>4</th>\n",
       "      <td>17 MISSING NORANDA MINERS FOUND ALIVE</td>\n",
       "      <td>MURDOCHVILLE, Que., April 2-</td>\n",
       "      <td>Seventeen miners who were  missing in a coppe...</td>\n",
       "    </tr>\n",
       "  </tbody>\n",
       "</table>\n",
       "</div>"
      ],
      "text/plain": [
       "                                               TITLE  \\\n",
       "0     USSR WHEAT BONUS OFFER SAID STILL UNDER DEBATE   \n",
       "1   HAITIAN CANE PLANTERS PROTEST SUGAR MILL CLOSURE   \n",
       "2       U.S. URGES JAPAN TO OPEN FARM MARKET FURTHER   \n",
       "3           NORANDA COPPER MINE SHUT DOWN AFTER FIRE   \n",
       "4              17 MISSING NORANDA MINERS FOUND ALIVE   \n",
       "\n",
       "                            DATE  \\\n",
       "0          WASHINGTON, March 6 -   \n",
       "1     PORT-AU-PRINCE, April 13 -   \n",
       "2              TOKYO, April 17 -   \n",
       "3             TORONTO, April 2 -   \n",
       "4   MURDOCHVILLE, Que., April 2-   \n",
       "\n",
       "                                                BODY  \n",
       "0   The Reagan administration continues  to debat...  \n",
       "1   About 2,000 sugar cane planters  marched to P...  \n",
       "2   U.S. Agriculture Secretary Richard Lyng  has ...  \n",
       "3   Noranda Inc said production at its  Murdochvi...  \n",
       "4   Seventeen miners who were  missing in a coppe...  "
      ]
     },
     "execution_count": 50,
     "metadata": {},
     "output_type": "execute_result"
    }
   ],
   "source": [
    "news_without_labels.head()"
   ]
  },
  {
   "cell_type": "code",
   "execution_count": 51,
   "metadata": {},
   "outputs": [],
   "source": [
    "pipeline = Pipeline([\n",
    "    ('bow', CountVectorizer(analyzer=text_process)),\n",
    "    ('tfidf', TfidfTransformer()),\n",
    "    ('classifier', MultinomialNB())\n",
    "])"
   ]
  },
  {
   "cell_type": "code",
   "execution_count": 52,
   "metadata": {},
   "outputs": [
    {
     "data": {
      "text/plain": [
       "Pipeline(memory=None,\n",
       "     steps=[('bow', CountVectorizer(analyzer=<function text_process at 0x000001B85DCDFBF8>,\n",
       "        binary=False, decode_error='strict', dtype=<class 'numpy.int64'>,\n",
       "        encoding='utf-8', input='content', lowercase=True, max_df=1.0,\n",
       "        max_features=None, min_df=1, ngram_range=(1, 1), preprocesso...f=False, use_idf=True)), ('classifier', MultinomialNB(alpha=1.0, class_prior=None, fit_prior=True))])"
      ]
     },
     "execution_count": 52,
     "metadata": {},
     "output_type": "execute_result"
    }
   ],
   "source": [
    "pipeline.fit(news_body_train,class_train)"
   ]
  },
  {
   "cell_type": "code",
   "execution_count": 53,
   "metadata": {},
   "outputs": [],
   "source": [
    "predictions_final = pipeline.predict(news_without_labels['BODY'])"
   ]
  },
  {
   "cell_type": "code",
   "execution_count": 54,
   "metadata": {},
   "outputs": [
    {
     "data": {
      "text/plain": [
       "array([-1,  1,  1,  1,  1, -1,  1, -1,  1, -1, -1,  1,  1, -1,  1, -1, -1,\n",
       "        1, -1,  1, -1, -1, -1, -1, -1,  1,  1,  1,  1, -1,  1, -1, -1, -1,\n",
       "        1,  1, -1,  1, -1, -1, -1, -1,  1,  1, -1,  1, -1,  1, -1,  1, -1,\n",
       "       -1, -1,  1, -1, -1,  1, -1, -1, -1,  1, -1, -1, -1,  1,  1, -1,  1,\n",
       "       -1, -1,  1, -1,  1, -1,  1,  1, -1,  1, -1, -1,  1,  1,  1, -1,  1,\n",
       "        1, -1,  1,  1, -1,  1, -1, -1,  1, -1,  1, -1, -1,  1, -1],\n",
       "      dtype=int64)"
      ]
     },
     "execution_count": 54,
     "metadata": {},
     "output_type": "execute_result"
    }
   ],
   "source": [
    "predictions_final"
   ]
  },
  {
   "cell_type": "markdown",
   "metadata": {},
   "source": [
    "#### Witing Predictions to CSV File"
   ]
  },
  {
   "cell_type": "code",
   "execution_count": 55,
   "metadata": {},
   "outputs": [],
   "source": [
    "result = pd.DataFrame(data={'CLASS': predictions_final, 'TITLE': news_without_labels['TITLE'], 'DATE': news_without_labels['DATE'], 'BODY': news_without_labels['BODY']})\n",
    "result.to_csv(path_or_buf='Final_Prediction.csv', index = False, header = True)"
   ]
  },
  {
   "cell_type": "markdown",
   "metadata": {},
   "source": [
    "## Overall Conclusion\n",
    "\n",
    "* In NLP **MultinomialNB** is better than **RandomForrestClassifier**.\n",
    "\n",
    "* News cannot be classified upon content length.\n",
    "\n",
    "* **Title** of the News and **Body** of the news are two successful features to classify a news article.\n",
    "\n",
    "* From the above two features Body of the news is more helpful to correctly predict a category for a upcoming news article.\n",
    "\n",
    "### About Class Labels\n",
    "\n",
    "After a careful analysis we can come into the conclusion of **CLASS -1** being a **Economical** news and **CLASS +1** being a **Non Economical** News.\n",
    "\n",
    "\n",
    "## Additional Material\n",
    "\n",
    "Download the full `juputer notebook` using the following link or QR code.\n",
    "\n",
    "[https://github.com/DevDHera/Guide-to-NLP-with-Python](https://github.com/DevDHera/Guide-to-NLP-with-Python)\n",
    "\n",
    "<img src=\"./public/qr/QRcode.png\">"
   ]
  }
 ],
 "metadata": {
  "kernelspec": {
   "display_name": "Python 3",
   "language": "python",
   "name": "python3"
  },
  "language_info": {
   "codemirror_mode": {
    "name": "ipython",
    "version": 3
   },
   "file_extension": ".py",
   "mimetype": "text/x-python",
   "name": "python",
   "nbconvert_exporter": "python",
   "pygments_lexer": "ipython3",
   "version": "3.7.0"
  }
 },
 "nbformat": 4,
 "nbformat_minor": 2
}
